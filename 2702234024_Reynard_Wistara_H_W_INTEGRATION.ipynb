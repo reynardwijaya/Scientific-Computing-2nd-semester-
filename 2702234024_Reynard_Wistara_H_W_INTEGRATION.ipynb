{
  "nbformat": 4,
  "nbformat_minor": 0,
  "metadata": {
    "colab": {
      "provenance": [],
      "authorship_tag": "ABX9TyNbowcAM1aVo62Ecdfq/Der",
      "include_colab_link": true
    },
    "kernelspec": {
      "name": "python3",
      "display_name": "Python 3"
    },
    "language_info": {
      "name": "python"
    }
  },
  "cells": [
    {
      "cell_type": "markdown",
      "metadata": {
        "id": "view-in-github",
        "colab_type": "text"
      },
      "source": [
        "<a href=\"https://colab.research.google.com/github/reynardwijaya/Scientific-Computing-2nd-semester-/blob/main/2702234024_Reynard_Wistara_H_W_INTEGRATION.ipynb\" target=\"_parent\"><img src=\"https://colab.research.google.com/assets/colab-badge.svg\" alt=\"Open In Colab\"/></a>"
      ]
    },
    {
      "cell_type": "markdown",
      "source": [
        "Rieman Integral"
      ],
      "metadata": {
        "id": "KxYysimcBZz1"
      }
    },
    {
      "cell_type": "code",
      "execution_count": null,
      "metadata": {
        "colab": {
          "base_uri": "https://localhost:8080/"
        },
        "id": "ltODi-kh_m-K",
        "outputId": "f6905708-8a53-4666-d740-27e654ee2fcd"
      },
      "outputs": [
        {
          "output_type": "stream",
          "name": "stdout",
          "text": [
            "1.9835235375094546\n",
            "0.01647646249054535\n",
            "1.9835235375094546\n",
            "0.01647646249054535\n",
            "2.0082484079079745\n",
            "-0.008248407907974542\n"
          ]
        }
      ],
      "source": [
        "import numpy as np\n",
        "\n",
        "a = 0\n",
        "b = np.pi\n",
        "n = 11\n",
        "h = (b - a) / (n - 1)\n",
        "x = np.linspace(a, b, n)\n",
        "f = np.sin(x)\n",
        "\n",
        "I_riemannL = h * sum(f[:n-1])\n",
        "err_riemannL = 2 - I_riemannL\n",
        "\n",
        "I_riemannR = h * sum(f[1::])\n",
        "err_riemannR = 2 - I_riemannR\n",
        "\n",
        "I_mid = h * sum(np.sin((x[:n-1] \\\n",
        "        + x[1:])/2))\n",
        "err_mid = 2 - I_mid\n",
        "\n",
        "print(I_riemannL)\n",
        "print(err_riemannL)\n",
        "\n",
        "print(I_riemannR)\n",
        "print(err_riemannR)\n",
        "\n",
        "print(I_mid)\n",
        "print(err_mid)"
      ]
    },
    {
      "cell_type": "markdown",
      "source": [
        "Trapezoid Rule"
      ],
      "metadata": {
        "id": "Za_ZW6BFBdD8"
      }
    },
    {
      "cell_type": "code",
      "source": [
        "import numpy as np\n",
        "\n",
        "a = 0\n",
        "b = np.pi\n",
        "n = 11\n",
        "h = (b - a) / (n - 1)\n",
        "x = np.linspace(a, b, n)\n",
        "f = np.sin(x)\n",
        "\n",
        "I_trap = (h/2) * (f[0] + \\\n",
        "          2 * sum (f[1:n-1]) + f[n-1])\n",
        "err_trap = 2 - I_trap\n",
        "\n",
        "print(I_trap)\n",
        "print(err_trap)"
      ],
      "metadata": {
        "colab": {
          "base_uri": "https://localhost:8080/"
        },
        "id": "Y6utbhCjBhQj",
        "outputId": "e6162115-14bf-4940-8804-928d17f67ed8"
      },
      "execution_count": null,
      "outputs": [
        {
          "output_type": "stream",
          "name": "stdout",
          "text": [
            "1.9835235375094546\n",
            "0.01647646249054535\n"
          ]
        }
      ]
    },
    {
      "cell_type": "code",
      "source": [
        "import numpy as np\n",
        "from scipy.integrate import trapz\n",
        "\n",
        "a = 0\n",
        "b = np.pi\n",
        "n = 11\n",
        "h = (b - a) / (n - 1)\n",
        "x = np.linspace (a, b, n)\n",
        "f = np.sin(x)\n",
        "\n",
        "I_trapz = trapz(f,x)\n",
        "I_trapz = (h/2)*(f[0] + 2 * sum(f[1:n-1]) + f[n-1])\n",
        "\n",
        "print(I_trapz)\n",
        "print(I_trap)"
      ],
      "metadata": {
        "colab": {
          "base_uri": "https://localhost:8080/"
        },
        "id": "hP0Y3Yo7DlmB",
        "outputId": "d0288e5a-ec8c-466c-bec9-a11fa7fc6d04"
      },
      "execution_count": null,
      "outputs": [
        {
          "output_type": "stream",
          "name": "stdout",
          "text": [
            "1.9835235375094546\n",
            "1.9835235375094546\n"
          ]
        }
      ]
    },
    {
      "cell_type": "markdown",
      "source": [
        "Simpson's Rule"
      ],
      "metadata": {
        "id": "n0Bg2TbSCaXg"
      }
    },
    {
      "cell_type": "code",
      "source": [
        "from scipy.integrate import quad\n",
        "\n",
        "I_quad, est_err_quad = \\\n",
        "          quad(np.sin, 0, np.pi)\n",
        "print(I_quad)\n",
        "err_quad = 2 - I_quad\n",
        "print(est_err_quad, err_quad)"
      ],
      "metadata": {
        "colab": {
          "base_uri": "https://localhost:8080/"
        },
        "id": "X32YqiixCdpc",
        "outputId": "0c9f0ff6-1080-4368-b3bd-f3d47d4faf1b"
      },
      "execution_count": null,
      "outputs": [
        {
          "output_type": "stream",
          "name": "stdout",
          "text": [
            "2.0\n",
            "2.220446049250313e-14 0.0\n"
          ]
        }
      ]
    },
    {
      "cell_type": "markdown",
      "source": [
        "Quiz\n",
        "\n",
        "Evaluate the bounds or integral (0 to phi) sin(x) dx with the composite trapezodial rule using (1) eight panels and (2) 16 panels"
      ],
      "metadata": {
        "id": "C2WPSz_rBPXs"
      }
    },
    {
      "cell_type": "markdown",
      "source": [
        "(1) Eight Panels"
      ],
      "metadata": {
        "id": "Z-scpYL5CMV4"
      }
    },
    {
      "cell_type": "code",
      "source": [
        "import numpy as np\n",
        "\n",
        "a = 0\n",
        "b = np.pi\n",
        "n = 9  # Since we need 8 panels, we need 9 points (n = panels + 1)\n",
        "h = (b - a) / (n - 1)\n",
        "x = np.linspace(a, b, n)\n",
        "f = np.sin(x)\n",
        "\n",
        "I_trap_8 = (h/2) * (f[0] + 2 * sum(f[1:n-1]) + f[n-1])\n",
        "err_trap_8 = 2 - I_trap_8\n",
        "\n",
        "print(\"Integral with 8 panels:\", I_trap_8)\n",
        "print(\"Error with 8 panels:\", err_trap_8)\n"
      ],
      "metadata": {
        "colab": {
          "base_uri": "https://localhost:8080/"
        },
        "id": "8y2aO7bpB6SL",
        "outputId": "c86301c6-5e03-4dc7-c1e4-641df8291d0c"
      },
      "execution_count": null,
      "outputs": [
        {
          "output_type": "stream",
          "name": "stdout",
          "text": [
            "Integral with 8 panels: 1.9742316019455508\n",
            "Error with 8 panels: 0.025768398054449193\n"
          ]
        }
      ]
    },
    {
      "cell_type": "markdown",
      "source": [
        "(2) Sixteen Panels"
      ],
      "metadata": {
        "id": "eOB53flTCO9N"
      }
    },
    {
      "cell_type": "code",
      "source": [
        "a = 0\n",
        "b = np.pi\n",
        "n = 17  # Since we need 16 panels, we need 17 points (n = panels + 1)\n",
        "h = (b - a) / (n - 1)\n",
        "x = np.linspace(a, b, n)\n",
        "f = np.sin(x)\n",
        "\n",
        "I_trap_16 = (h/2) * (f[0] + 2 * sum(f[1:n-1]) + f[n-1])\n",
        "err_trap_16 = 2 - I_trap_16\n",
        "\n",
        "print(\"Integral with 16 panels:\", I_trap_16)\n",
        "print(\"Error with 16 panels:\", err_trap_16)\n"
      ],
      "metadata": {
        "colab": {
          "base_uri": "https://localhost:8080/"
        },
        "id": "M7ODUEBrB_V8",
        "outputId": "e1fb9a36-bd6e-464a-cf69-a37c53d6c5b6"
      },
      "execution_count": null,
      "outputs": [
        {
          "output_type": "stream",
          "name": "stdout",
          "text": [
            "Integral with 16 panels: 1.9935703437723395\n",
            "Error with 16 panels: 0.006429656227660452\n"
          ]
        }
      ]
    }
  ]
}