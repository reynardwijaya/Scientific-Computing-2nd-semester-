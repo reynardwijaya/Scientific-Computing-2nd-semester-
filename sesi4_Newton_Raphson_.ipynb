{
  "nbformat": 4,
  "nbformat_minor": 0,
  "metadata": {
    "colab": {
      "provenance": [],
      "authorship_tag": "ABX9TyPYkbY4NYtZj5205m9q6auM",
      "include_colab_link": true
    },
    "kernelspec": {
      "name": "python3",
      "display_name": "Python 3"
    },
    "language_info": {
      "name": "python"
    }
  },
  "cells": [
    {
      "cell_type": "markdown",
      "metadata": {
        "id": "view-in-github",
        "colab_type": "text"
      },
      "source": [
        "<a href=\"https://colab.research.google.com/github/reynardwijaya/Scientific-Computing-2nd-semester-/blob/main/sesi4_Newton_Raphson_.ipynb\" target=\"_parent\"><img src=\"https://colab.research.google.com/assets/colab-badge.svg\" alt=\"Open In Colab\"/></a>"
      ]
    },
    {
      "cell_type": "code",
      "execution_count": null,
      "metadata": {
        "colab": {
          "base_uri": "https://localhost:8080/"
        },
        "id": "M2iLfWPBrgrf",
        "outputId": "5d026f8d-5fed-498a-ab30-2224c3de857b"
      },
      "outputs": [
        {
          "output_type": "stream",
          "name": "stdout",
          "text": [
            "newton_raphson = 1.4142857142857144\n",
            "sqrt(2) = 1.4142135623730951\n"
          ]
        }
      ],
      "source": [
        "import numpy as np\n",
        "\n",
        "f = lambda x: x**2 - 2\n",
        "f_prime = lambda x: 2*x\n",
        "newton_raphson = 1.4 - (f(1.4)) / (f_prime(1.4))\n",
        "\n",
        "print(\"newton_raphson =\", newton_raphson)\n",
        "print(\"sqrt(2) =\", np.sqrt(2))"
      ]
    },
    {
      "cell_type": "code",
      "source": [
        "def my_newton (f, df, x0, tol) :\n",
        "  # output is an estimation of the root of f\n",
        "  # using the Newton Raphson method\n",
        "  # recursive implementation\n",
        "  if abs(f(x0)) < tol:\n",
        "    return x0\n",
        "  else:\n",
        "    return my_newton(f, df, x0 - f(x0)/df(x0), tol)"
      ],
      "metadata": {
        "id": "2crbCRD3tbsU"
      },
      "execution_count": null,
      "outputs": []
    },
    {
      "cell_type": "code",
      "source": [
        "estimate = my_newton(f, f_prime, 1.5, 1e-6)\n",
        "print(\"estimate =\", estimate)\n",
        "print(\"sqrt(2) =\", np.sqrt(2))"
      ],
      "metadata": {
        "colab": {
          "base_uri": "https://localhost:8080/"
        },
        "id": "6H0aVjJOuv-o",
        "outputId": "2637e9b4-53ce-47e3-a91e-242cea42e09f"
      },
      "execution_count": null,
      "outputs": [
        {
          "output_type": "stream",
          "name": "stdout",
          "text": [
            "estimate = 1.4142135623746899\n",
            "sqrt(2) = 1.4142135623730951\n"
          ]
        }
      ]
    },
    {
      "cell_type": "markdown",
      "source": [
        "Quiz 1 Newton Raphson\n",
        "\n",
        "f(x) = x^3 - 3x^2 +2x                                                                   \n",
        "x0 = 1.5                                                                             \n",
        "tol = 0.01"
      ],
      "metadata": {
        "id": "apfHelT7vUCB"
      }
    },
    {
      "cell_type": "code",
      "source": [
        "import numpy as np\n",
        "\n",
        "f = lambda x: x**3 - 3*x**2 + 2*x\n",
        "f_prime = lambda x: 3*x**2 - 6*x + 2\n",
        "newton_raphson = 1.5 - (f(1.5)) / (f_prime(1.5))\n",
        "\n",
        "print(\"newton_raphson =\", newton_raphson)\n",
        "print(\"sqrt(2) =\", np.sqrt(2))"
      ],
      "metadata": {
        "id": "bXAmMLOc0Z9w",
        "colab": {
          "base_uri": "https://localhost:8080/"
        },
        "outputId": "b703bb7e-c5b1-45f7-be7d-d8efb2e421dc"
      },
      "execution_count": 3,
      "outputs": [
        {
          "output_type": "stream",
          "name": "stdout",
          "text": [
            "newton_raphson = 0.0\n",
            "sqrt(2) = 1.4142135623730951\n"
          ]
        }
      ]
    },
    {
      "cell_type": "markdown",
      "source": [
        "Quiz 2 Newton Raphson    \n",
        "                        \n",
        "f(x) = e^x-2x                                  \n",
        "x0 = 1                                                        \n",
        "tol = 0,001"
      ],
      "metadata": {
        "id": "YT5ZrFOavqUr"
      }
    },
    {
      "cell_type": "code",
      "source": [
        "import numpy as np\n",
        "\n",
        "f = lambda x: np.exp(x) - 2*x\n",
        "f_prime = lambda x: np.exp(x) - 2\n",
        "newton_raphson = 1 - (f(1)) / (f_prime(1))\n",
        "\n",
        "print(\"newton_raphson =\", newton_raphson)\n",
        "print(\"sqrt(2) =\", np.sqrt(2))"
      ],
      "metadata": {
        "id": "sakm0SHh1AIL",
        "colab": {
          "base_uri": "https://localhost:8080/"
        },
        "outputId": "8af1b3e0-35e1-435d-b90e-857cd7f5f36e"
      },
      "execution_count": 6,
      "outputs": [
        {
          "output_type": "stream",
          "name": "stdout",
          "text": [
            "newton_raphson = 0.0\n",
            "sqrt(2) = 1.4142135623730951\n"
          ]
        }
      ]
    }
  ]
}